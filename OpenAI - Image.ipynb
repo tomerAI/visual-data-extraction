{
 "cells": [
  {
   "cell_type": "code",
   "execution_count": 19,
   "id": "a318ddca-245f-4872-b56d-edf26a6f349a",
   "metadata": {},
   "outputs": [
    {
     "data": {
      "text/plain": [
       "{'Kreditnota_test_firma.png': {'finish_reason': 'stop',\n",
       "  'index': 0,\n",
       "  'logprobs': None,\n",
       "  'message': {'content': '```json\\n{\\n  \"invoice_number\": \"1\",\\n  \"date_of_issue\": \"16-08-2023\",\\n  \"seller_info\": {\\n    \"name\": \"Testfirma\",\\n    \"address\": \"Testvej 3, 3500 Værløse\",\\n    \"contact\": {\\n      \"email\": \"test@minuba.dk\",\\n      \"phone\": \"70702037\",\\n      \"CVR\": \"23456267\"\\n    }\\n  },\\n  \"client_info\": {\\n    \"name\": \"Test Testesen\",\\n    \"address\": \"Testvej 1, 3500 Værløse\",\\n    \"customer_number\": \"01020304\",\\n    \"customer_CVR\": \"12345678\"\\n  },\\n  \"invoice_items_table\": [\\n    {\\n      \"description\": \"Montør (timer)\",\\n      \"quantity\": -1.5,\\n      \"unit_price\": 395.00,\\n      \"total\": -592.50\\n    },\\n    {\\n      \"description\": \"Servicevogn\",\\n      \"quantity\": -1.5,\\n      \"unit_price\": 65.00,\\n      \"total\": -97.50\\n    },\\n    {\\n      \"description\": \"KOMB.SIGN M/I/FØ\",\\n      \"quantity\": -1,\\n      \"unit_price\": 2325.00,\\n      \"total\": -2325.00\\n    },\\n    {\\n      \"description\": \"SÆDE I/FØ SIGN Q\",\\n      \"quantity\": -1,\\n      \"unit_price\": 734.00,\\n      \"total\": -734.00\\n    },\\n    {\\n      \"description\": \"TILS.L. 1/2\",\\n      \"quantity\": -1,\\n      \"unit_price\": 52.00,\\n      \"total\": -52.00\\n    },\\n    {\\n      \"description\": \"LYNBETON CX-5 1 KG 27 1569 010 - I POSER\",\\n      \"quantity\": -0.5,\\n      \"unit_price\": 61.00,\\n      \"total\": -30.50\\n    }\\n  ],\\n  \"invoice_summary_table\": {\\n    \"subtotal\": -3831.50,\\n    \"tax\": -957.88,\\n    \"total\": -4789.38\\n  }\\n}\\n```',\n",
       "   'refusal': None,\n",
       "   'role': 'assistant'}}}"
      ]
     },
     "execution_count": 19,
     "metadata": {},
     "output_type": "execute_result"
    }
   ],
   "source": [
    "import base64\n",
    "import os\n",
    "from openai import OpenAI\n",
    "from dotenv import load_dotenv\n",
    "\n",
    "# Load environment variables from .env file\n",
    "load_dotenv()\n",
    "\n",
    "# Retrieve API key from environment variables\n",
    "openai_api_key = os.getenv(\"OPENAI_API_KEY\")\n",
    "\n",
    "client = OpenAI(api_key=openai_api_key)\n",
    "\n",
    "# Initialize an empty dictionary to store responses\n",
    "responses = {}\n",
    "\n",
    "# Function to encode the image\n",
    "def encode_image(image_path):\n",
    "    with open(image_path, \"rb\") as image_file:\n",
    "        return base64.b64encode(image_file.read()).decode(\"utf-8\")\n",
    "\n",
    "# Specify the folder containing the images\n",
    "image_folder_path = \"invoices\"\n",
    "\n",
    "# Loop through all image files in the folder\n",
    "for filename in os.listdir(image_folder_path):\n",
    "    if filename.lower().endswith((\".jpg\", \".jpeg\", \".png\")):\n",
    "        image_path = os.path.join(image_folder_path, filename)\n",
    "        base64_image = encode_image(image_path)\n",
    "\n",
    "        # Make the API call for each image\n",
    "        response = client.chat.completions.create(\n",
    "            model=\"gpt-4o-mini\",\n",
    "            messages=[\n",
    "                {\n",
    "                    \"role\": \"user\",\n",
    "                    \"content\": [\n",
    "                        {\n",
    "                            \"type\": \"text\",\n",
    "                            \"text\": \"Retrieve invoice_number, date_of_issue, seller_info, client_info,\"\n",
    "                                    \"invoice_items_table, invoice_summary_table. Response must be in JSON format\",\n",
    "                        },\n",
    "                        {\n",
    "                            \"type\": \"image_url\",\n",
    "                            \"image_url\": {\n",
    "                                \"url\": f\"data:image/jpeg;base64,{base64_image}\"\n",
    "                            },\n",
    "                        },\n",
    "                    ],\n",
    "                }\n",
    "            ],\n",
    "        )\n",
    "\n",
    "        # Save the JSON response in the dictionary with the filename as the key\n",
    "        responses[filename] = response.choices[0].to_dict()\n",
    "        break\n",
    "\n",
    "# Output the dictionary with file names and their responses\n",
    "responses"
   ]
  },
  {
   "cell_type": "code",
   "execution_count": 20,
   "id": "8d0ac316-3906-4ed3-a5eb-0fd22645235f",
   "metadata": {},
   "outputs": [
    {
     "data": {
      "text/plain": [
       "{'invoice_number': '1',\n",
       " 'date_of_issue': '16-08-2023',\n",
       " 'seller_info': {'name': 'Testfirma',\n",
       "  'address': 'Testvej 3, 3500 Værløse',\n",
       "  'contact': {'email': 'test@minuba.dk',\n",
       "   'phone': '70702037',\n",
       "   'CVR': '23456267'}},\n",
       " 'client_info': {'name': 'Test Testesen',\n",
       "  'address': 'Testvej 1, 3500 Værløse',\n",
       "  'customer_number': '01020304',\n",
       "  'customer_CVR': '12345678'},\n",
       " 'invoice_items_table': [{'description': 'Montør (timer)',\n",
       "   'quantity': -1.5,\n",
       "   'unit_price': 395.0,\n",
       "   'total': -592.5},\n",
       "  {'description': 'Servicevogn',\n",
       "   'quantity': -1.5,\n",
       "   'unit_price': 65.0,\n",
       "   'total': -97.5},\n",
       "  {'description': 'KOMB.SIGN M/I/FØ',\n",
       "   'quantity': -1,\n",
       "   'unit_price': 2325.0,\n",
       "   'total': -2325.0},\n",
       "  {'description': 'SÆDE I/FØ SIGN Q',\n",
       "   'quantity': -1,\n",
       "   'unit_price': 734.0,\n",
       "   'total': -734.0},\n",
       "  {'description': 'TILS.L. 1/2',\n",
       "   'quantity': -1,\n",
       "   'unit_price': 52.0,\n",
       "   'total': -52.0},\n",
       "  {'description': 'LYNBETON CX-5 1 KG 27 1569 010 - I POSER',\n",
       "   'quantity': -0.5,\n",
       "   'unit_price': 61.0,\n",
       "   'total': -30.5}],\n",
       " 'invoice_summary_table': {'subtotal': -3831.5,\n",
       "  'tax': -957.88,\n",
       "  'total': -4789.38}}"
      ]
     },
     "execution_count": 20,
     "metadata": {},
     "output_type": "execute_result"
    }
   ],
   "source": [
    "import json\n",
    "raw_content = responses['Kreditnota_test_firma.png']['message']['content']\n",
    "json_content = raw_content.strip('```json\\n').strip('\\n```')\n",
    "\n",
    "# Load the JSON content\n",
    "parsed_json = json.loads(json_content)\n",
    "\n",
    "parsed_json"
   ]
  }
 ],
 "metadata": {
  "kernelspec": {
   "display_name": "Python 3 (ipykernel)",
   "language": "python",
   "name": "python3"
  },
  "language_info": {
   "codemirror_mode": {
    "name": "ipython",
    "version": 3
   },
   "file_extension": ".py",
   "mimetype": "text/x-python",
   "name": "python",
   "nbconvert_exporter": "python",
   "pygments_lexer": "ipython3",
   "version": "3.11.10"
  }
 },
 "nbformat": 4,
 "nbformat_minor": 5
}
